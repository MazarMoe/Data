{
 "cells": [
  {
   "cell_type": "markdown",
   "id": "c2cedb79-1eb6-4ed6-be77-e0fc57587c51",
   "metadata": {},
   "source": [
    "# this is header 1\n"
   ]
  },
  {
   "cell_type": "code",
   "execution_count": 18,
   "id": "b5198d06-cb3b-4151-9b72-eac805d6edd1",
   "metadata": {},
   "outputs": [],
   "source": [
    "price = 5"
   ]
  },
  {
   "cell_type": "code",
   "execution_count": 10,
   "id": "f3b999c6-b34f-419c-a054-a28506ce0f54",
   "metadata": {},
   "outputs": [
    {
     "name": "stdout",
     "output_type": "stream",
     "text": [
      "7\n"
     ]
    }
   ],
   "source": [
    "total = tax + price\n",
    "print (total)"
   ]
  },
  {
   "cell_type": "code",
   "execution_count": null,
   "id": "0dca1bd0-4dc5-4cf2-8b70-ca538691cb79",
   "metadata": {},
   "outputs": [],
   "source": []
  }
 ],
 "metadata": {
  "kernelspec": {
   "display_name": "Python 3 (ipykernel)",
   "language": "python",
   "name": "python3"
  },
  "language_info": {
   "codemirror_mode": {
    "name": "ipython",
    "version": 3
   },
   "file_extension": ".py",
   "mimetype": "text/x-python",
   "name": "python",
   "nbconvert_exporter": "python",
   "pygments_lexer": "ipython3",
   "version": "3.12.7"
  }
 },
 "nbformat": 4,
 "nbformat_minor": 5
}
